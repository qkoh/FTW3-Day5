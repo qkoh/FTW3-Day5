{
 "cells": [
  {
   "cell_type": "markdown",
   "metadata": {},
   "source": []
  },
  {
   "cell_type": "code",
   "execution_count": 59,
   "metadata": {},
   "outputs": [],
   "source": [
    "# IMPORT GENERIC PACKAGES\n",
    "import numpy as np\n",
    "import pandas as pd\n",
    "import matplotlib.pyplot as plt\n",
    "import seaborn as sns\n",
    "import pandas_profiling as pp\n",
    "\n",
    "# SNS Plotting Config\n",
    "sns.set(style='white', rc={'figure.figsize':(20,10)})\n",
    "\n",
    "from sklearn.linear_model import LinearRegression\n",
    "from sklearn.model_selection import train_test_split\n",
    "from sklearn.metrics import mean_squared_error as mse\n",
    "from sklearn.preprocessing import StandardScaler\n",
    "from sklearn import preprocessing"
   ]
  },
  {
   "cell_type": "markdown",
   "metadata": {},
   "source": [
    "## Read Data"
   ]
  },
  {
   "cell_type": "code",
   "execution_count": 60,
   "metadata": {},
   "outputs": [],
   "source": [
    "data = pd.read_csv('nyc-rolling-sales.csv')"
   ]
  },
  {
   "cell_type": "code",
   "execution_count": 61,
   "metadata": {},
   "outputs": [],
   "source": [
    "# Install Panda Profiling if not yet installed\n",
    "# !pip install pandas_profiling\n",
    "# import pandas_profiling as pp\n",
    "# report = pp.ProfileReport(data)\n",
    "# report"
   ]
  },
  {
   "cell_type": "markdown",
   "metadata": {},
   "source": [
    "## Clean Data"
   ]
  },
  {
   "cell_type": "code",
   "execution_count": 62,
   "metadata": {},
   "outputs": [],
   "source": [
    "data['BBL'] = data['BOROUGH'].map(str) + data['BLOCK'].map(str) + data['LOT'].map(str)\n",
    "data['BBL'] = pd.to_numeric(data['BBL'],errors='coerce')"
   ]
  },
  {
   "cell_type": "code",
   "execution_count": 63,
   "metadata": {},
   "outputs": [],
   "source": [
    "# Convert to float\n",
    "data['GROSS SQUARE FEET'] = pd.to_numeric(data['GROSS SQUARE FEET'], errors='coerce')\n",
    "data['SALE PRICE'] = pd.to_numeric(data['SALE PRICE'], errors='coerce')\n",
    "data['LAND SQUARE FEET'] = pd.to_numeric(data['LAND SQUARE FEET'], errors='coerce')"
   ]
  },
  {
   "cell_type": "code",
   "execution_count": 64,
   "metadata": {},
   "outputs": [],
   "source": [
    "# Convert to Date\n",
    "data['SALE DATE'] = pd.to_datetime(data['SALE DATE'], errors='coerce')"
   ]
  },
  {
   "cell_type": "code",
   "execution_count": 65,
   "metadata": {},
   "outputs": [],
   "source": [
    "# Convert text to numeric\n",
    "data['BUILDING CLASS AT PRESENT'] = pd.get_dummies(data['BUILDING CLASS AT PRESENT'])\n",
    "data['TAX CLASS AT PRESENT'] = pd.get_dummies(data['TAX CLASS AT PRESENT'])\n",
    "data['BUILDING CLASS CATEGORY'] = pd.get_dummies(data['BUILDING CLASS CATEGORY'])"
   ]
  },
  {
   "cell_type": "code",
   "execution_count": 66,
   "metadata": {},
   "outputs": [],
   "source": [
    "# Replace NULL or NaN with some 0\n",
    "data['GROSS SQUARE FEET'] = data['GROSS SQUARE FEET'].fillna(0)\n",
    "data['SALE PRICE'] = data['SALE PRICE'].fillna(0)\n",
    "data['LAND SQUARE FEET'] = data['LAND SQUARE FEET'].fillna(0)"
   ]
  },
  {
   "cell_type": "code",
   "execution_count": 67,
   "metadata": {},
   "outputs": [],
   "source": [
    "data = data[data['COMMERCIAL UNITS'] > 0]\n",
    "data = data[data['RESIDENTIAL UNITS'] > 0]\n",
    "data = data[data['YEAR BUILT'] > 0]\n",
    "data = data[data['ZIP CODE'] > 0]\n",
    "data = data[data['RESIDENTIAL UNITS'] > 0]\n",
    "data = data[data['SALE PRICE'] > 1e5]"
   ]
  },
  {
   "cell_type": "code",
   "execution_count": 68,
   "metadata": {},
   "outputs": [],
   "source": [
    "# Delete unnecessary columns\n",
    "# del data['Unnamed: 0']\n",
    "# del data['SALE DATE']\n",
    "# del data ['EASE-MENT']"
   ]
  },
  {
   "cell_type": "code",
   "execution_count": 69,
   "metadata": {},
   "outputs": [],
   "source": [
    "LE = preprocessing.LabelEncoder()"
   ]
  },
  {
   "cell_type": "code",
   "execution_count": 70,
   "metadata": {},
   "outputs": [],
   "source": [
    "LE.fit(data['BUILDING CLASS CATEGORY'])\n",
    "data['BUILDING CLASS CATEGORY'] = LE.transform(data['BUILDING CLASS CATEGORY'])"
   ]
  },
  {
   "cell_type": "code",
   "execution_count": 71,
   "metadata": {},
   "outputs": [],
   "source": [
    "LE.fit(data['TAX CLASS AT PRESENT'])\n",
    "data['TAX CLASS AT PRESENT'] = LE.transform(data['TAX CLASS AT PRESENT'])"
   ]
  },
  {
   "cell_type": "code",
   "execution_count": 72,
   "metadata": {},
   "outputs": [],
   "source": [
    "LE.fit(data['BUILDING CLASS AT PRESENT'])\n",
    "data['BUILDING CLASS AT PRESENT'] = LE.transform(data['BUILDING CLASS AT PRESENT'])"
   ]
  },
  {
   "cell_type": "code",
   "execution_count": 73,
   "metadata": {},
   "outputs": [],
   "source": [
    "LE.fit(data['BUILDING CLASS AT TIME OF SALE'])\n",
    "data['BUILDING CLASS AT TIME OF SALE'] = LE.transform(data['BUILDING CLASS AT TIME OF SALE'])"
   ]
  },
  {
   "cell_type": "code",
   "execution_count": 74,
   "metadata": {},
   "outputs": [],
   "source": [
    "LE.fit(data['NEIGHBORHOOD'])\n",
    "data['NEIGHBORHOOD'] = LE.transform(data['NEIGHBORHOOD'])"
   ]
  },
  {
   "cell_type": "code",
   "execution_count": 75,
   "metadata": {},
   "outputs": [],
   "source": [
    "LE.fit(data['ADDRESS'])\n",
    "data['ADDRESS'] = LE.transform(data['ADDRESS'])"
   ]
  },
  {
   "cell_type": "code",
   "execution_count": 76,
   "metadata": {},
   "outputs": [],
   "source": [
    "# List all the features to be used\n",
    "features = ['BBL','BUILDING CLASS CATEGORY','TAX CLASS AT PRESENT','BUILDING CLASS AT PRESENT', 'TAX CLASS AT TIME OF SALE','BUILDING CLASS AT TIME OF SALE','GROSS SQUARE FEET', 'LAND SQUARE FEET','COMMERCIAL UNITS','YEAR BUILT', 'NEIGHBORHOOD', 'ADDRESS','TOTAL UNITS']"
   ]
  },
  {
   "cell_type": "code",
   "execution_count": 77,
   "metadata": {},
   "outputs": [],
   "source": [
    "# Set X\n",
    "X = data[features]"
   ]
  },
  {
   "cell_type": "code",
   "execution_count": 78,
   "metadata": {},
   "outputs": [],
   "source": [
    "# Set Y\n",
    "y = data['SALE PRICE']"
   ]
  },
  {
   "cell_type": "code",
   "execution_count": 79,
   "metadata": {},
   "outputs": [],
   "source": [
    "# Train-test split\n",
    "X_train, X_test, y_train, y_test = train_test_split(X, y, test_size = 0.4, random_state = 42)"
   ]
  },
  {
   "cell_type": "code",
   "execution_count": 80,
   "metadata": {},
   "outputs": [],
   "source": [
    "# Initialize model\n",
    "model = LinearRegression()"
   ]
  },
  {
   "cell_type": "code",
   "execution_count": 81,
   "metadata": {},
   "outputs": [
    {
     "data": {
      "text/plain": [
       "LinearRegression(copy_X=True, fit_intercept=True, n_jobs=None,\n",
       "         normalize=False)"
      ]
     },
     "execution_count": 81,
     "metadata": {},
     "output_type": "execute_result"
    }
   ],
   "source": [
    "# Fit Model\n",
    "model.fit(X_train, y_train)"
   ]
  },
  {
   "cell_type": "code",
   "execution_count": 82,
   "metadata": {},
   "outputs": [
    {
     "data": {
      "text/html": [
       "<div>\n",
       "<style scoped>\n",
       "    .dataframe tbody tr th:only-of-type {\n",
       "        vertical-align: middle;\n",
       "    }\n",
       "\n",
       "    .dataframe tbody tr th {\n",
       "        vertical-align: top;\n",
       "    }\n",
       "\n",
       "    .dataframe thead th {\n",
       "        text-align: right;\n",
       "    }\n",
       "</style>\n",
       "<table border=\"1\" class=\"dataframe\">\n",
       "  <thead>\n",
       "    <tr style=\"text-align: right;\">\n",
       "      <th></th>\n",
       "      <th>BBL</th>\n",
       "      <th>BUILDING CLASS CATEGORY</th>\n",
       "      <th>TAX CLASS AT PRESENT</th>\n",
       "      <th>BUILDING CLASS AT PRESENT</th>\n",
       "      <th>TAX CLASS AT TIME OF SALE</th>\n",
       "      <th>BUILDING CLASS AT TIME OF SALE</th>\n",
       "      <th>GROSS SQUARE FEET</th>\n",
       "      <th>LAND SQUARE FEET</th>\n",
       "      <th>COMMERCIAL UNITS</th>\n",
       "      <th>YEAR BUILT</th>\n",
       "      <th>NEIGHBORHOOD</th>\n",
       "      <th>ADDRESS</th>\n",
       "      <th>TOTAL UNITS</th>\n",
       "    </tr>\n",
       "  </thead>\n",
       "  <tbody>\n",
       "    <tr>\n",
       "      <th>count</th>\n",
       "      <td>1.417000e+03</td>\n",
       "      <td>1417.000000</td>\n",
       "      <td>1417.0</td>\n",
       "      <td>1417.0</td>\n",
       "      <td>1417.000000</td>\n",
       "      <td>1417.000000</td>\n",
       "      <td>1.417000e+03</td>\n",
       "      <td>1.417000e+03</td>\n",
       "      <td>1417.000000</td>\n",
       "      <td>1417.000000</td>\n",
       "      <td>1417.000000</td>\n",
       "      <td>1417.000000</td>\n",
       "      <td>1417.000000</td>\n",
       "    </tr>\n",
       "    <tr>\n",
       "      <th>mean</th>\n",
       "      <td>7.394512e+06</td>\n",
       "      <td>0.155258</td>\n",
       "      <td>0.0</td>\n",
       "      <td>0.0</td>\n",
       "      <td>1.793931</td>\n",
       "      <td>40.716302</td>\n",
       "      <td>1.434059e+04</td>\n",
       "      <td>7.320431e+03</td>\n",
       "      <td>1.557516</td>\n",
       "      <td>1927.319689</td>\n",
       "      <td>82.906140</td>\n",
       "      <td>697.047283</td>\n",
       "      <td>14.136909</td>\n",
       "    </tr>\n",
       "    <tr>\n",
       "      <th>std</th>\n",
       "      <td>3.216567e+07</td>\n",
       "      <td>0.362278</td>\n",
       "      <td>0.0</td>\n",
       "      <td>0.0</td>\n",
       "      <td>0.958101</td>\n",
       "      <td>15.947786</td>\n",
       "      <td>1.106012e+05</td>\n",
       "      <td>1.140434e+05</td>\n",
       "      <td>1.645393</td>\n",
       "      <td>22.371955</td>\n",
       "      <td>56.421715</td>\n",
       "      <td>403.214224</td>\n",
       "      <td>72.083175</td>\n",
       "    </tr>\n",
       "    <tr>\n",
       "      <th>min</th>\n",
       "      <td>1.279000e+03</td>\n",
       "      <td>0.000000</td>\n",
       "      <td>0.0</td>\n",
       "      <td>0.0</td>\n",
       "      <td>1.000000</td>\n",
       "      <td>0.000000</td>\n",
       "      <td>0.000000e+00</td>\n",
       "      <td>6.200000e+02</td>\n",
       "      <td>1.000000</td>\n",
       "      <td>1800.000000</td>\n",
       "      <td>0.000000</td>\n",
       "      <td>0.000000</td>\n",
       "      <td>1.000000</td>\n",
       "    </tr>\n",
       "    <tr>\n",
       "      <th>25%</th>\n",
       "      <td>3.590290e+05</td>\n",
       "      <td>0.000000</td>\n",
       "      <td>0.0</td>\n",
       "      <td>0.0</td>\n",
       "      <td>1.000000</td>\n",
       "      <td>33.000000</td>\n",
       "      <td>2.611000e+03</td>\n",
       "      <td>1.800000e+03</td>\n",
       "      <td>1.000000</td>\n",
       "      <td>1915.000000</td>\n",
       "      <td>36.000000</td>\n",
       "      <td>348.000000</td>\n",
       "      <td>3.000000</td>\n",
       "    </tr>\n",
       "    <tr>\n",
       "      <th>50%</th>\n",
       "      <td>3.111352e+06</td>\n",
       "      <td>0.000000</td>\n",
       "      <td>0.0</td>\n",
       "      <td>0.0</td>\n",
       "      <td>2.000000</td>\n",
       "      <td>50.000000</td>\n",
       "      <td>3.600000e+03</td>\n",
       "      <td>2.092000e+03</td>\n",
       "      <td>1.000000</td>\n",
       "      <td>1927.000000</td>\n",
       "      <td>74.000000</td>\n",
       "      <td>697.000000</td>\n",
       "      <td>3.000000</td>\n",
       "    </tr>\n",
       "    <tr>\n",
       "      <th>75%</th>\n",
       "      <td>3.789248e+06</td>\n",
       "      <td>0.000000</td>\n",
       "      <td>0.0</td>\n",
       "      <td>0.0</td>\n",
       "      <td>2.000000</td>\n",
       "      <td>50.000000</td>\n",
       "      <td>5.985000e+03</td>\n",
       "      <td>3.034000e+03</td>\n",
       "      <td>2.000000</td>\n",
       "      <td>1931.000000</td>\n",
       "      <td>131.000000</td>\n",
       "      <td>1045.000000</td>\n",
       "      <td>7.000000</td>\n",
       "    </tr>\n",
       "    <tr>\n",
       "      <th>max</th>\n",
       "      <td>4.128551e+08</td>\n",
       "      <td>1.000000</td>\n",
       "      <td>0.0</td>\n",
       "      <td>0.0</td>\n",
       "      <td>4.000000</td>\n",
       "      <td>57.000000</td>\n",
       "      <td>3.750565e+06</td>\n",
       "      <td>4.228300e+06</td>\n",
       "      <td>25.000000</td>\n",
       "      <td>2016.000000</td>\n",
       "      <td>187.000000</td>\n",
       "      <td>1395.000000</td>\n",
       "      <td>1866.000000</td>\n",
       "    </tr>\n",
       "  </tbody>\n",
       "</table>\n",
       "</div>"
      ],
      "text/plain": [
       "                BBL  BUILDING CLASS CATEGORY  TAX CLASS AT PRESENT  \\\n",
       "count  1.417000e+03              1417.000000                1417.0   \n",
       "mean   7.394512e+06                 0.155258                   0.0   \n",
       "std    3.216567e+07                 0.362278                   0.0   \n",
       "min    1.279000e+03                 0.000000                   0.0   \n",
       "25%    3.590290e+05                 0.000000                   0.0   \n",
       "50%    3.111352e+06                 0.000000                   0.0   \n",
       "75%    3.789248e+06                 0.000000                   0.0   \n",
       "max    4.128551e+08                 1.000000                   0.0   \n",
       "\n",
       "       BUILDING CLASS AT PRESENT  TAX CLASS AT TIME OF SALE  \\\n",
       "count                     1417.0                1417.000000   \n",
       "mean                         0.0                   1.793931   \n",
       "std                          0.0                   0.958101   \n",
       "min                          0.0                   1.000000   \n",
       "25%                          0.0                   1.000000   \n",
       "50%                          0.0                   2.000000   \n",
       "75%                          0.0                   2.000000   \n",
       "max                          0.0                   4.000000   \n",
       "\n",
       "       BUILDING CLASS AT TIME OF SALE  GROSS SQUARE FEET  LAND SQUARE FEET  \\\n",
       "count                     1417.000000       1.417000e+03      1.417000e+03   \n",
       "mean                        40.716302       1.434059e+04      7.320431e+03   \n",
       "std                         15.947786       1.106012e+05      1.140434e+05   \n",
       "min                          0.000000       0.000000e+00      6.200000e+02   \n",
       "25%                         33.000000       2.611000e+03      1.800000e+03   \n",
       "50%                         50.000000       3.600000e+03      2.092000e+03   \n",
       "75%                         50.000000       5.985000e+03      3.034000e+03   \n",
       "max                         57.000000       3.750565e+06      4.228300e+06   \n",
       "\n",
       "       COMMERCIAL UNITS   YEAR BUILT  NEIGHBORHOOD      ADDRESS  TOTAL UNITS  \n",
       "count       1417.000000  1417.000000   1417.000000  1417.000000  1417.000000  \n",
       "mean           1.557516  1927.319689     82.906140   697.047283    14.136909  \n",
       "std            1.645393    22.371955     56.421715   403.214224    72.083175  \n",
       "min            1.000000  1800.000000      0.000000     0.000000     1.000000  \n",
       "25%            1.000000  1915.000000     36.000000   348.000000     3.000000  \n",
       "50%            1.000000  1927.000000     74.000000   697.000000     3.000000  \n",
       "75%            2.000000  1931.000000    131.000000  1045.000000     7.000000  \n",
       "max           25.000000  2016.000000    187.000000  1395.000000  1866.000000  "
      ]
     },
     "execution_count": 82,
     "metadata": {},
     "output_type": "execute_result"
    }
   ],
   "source": [
    "X.describe()"
   ]
  },
  {
   "cell_type": "code",
   "execution_count": 83,
   "metadata": {},
   "outputs": [],
   "source": [
    "# get coefficients\n",
    "coefficient = model.coef_\n",
    "\n",
    "# get intercept\n",
    "intercept = model.intercept_"
   ]
  },
  {
   "cell_type": "code",
   "execution_count": 84,
   "metadata": {},
   "outputs": [
    {
     "data": {
      "text/plain": [
       "array([-5.15866539e-04, -3.10351148e+05, -3.41795385e-07,  2.70119926e-10,\n",
       "        9.97878210e+05, -4.97392103e+04,  4.53272319e+02, -3.71756505e+02,\n",
       "       -2.39109433e+05, -1.17125975e+04,  2.31050263e+02,  8.20620006e+02,\n",
       "       -7.05090693e+04])"
      ]
     },
     "execution_count": 84,
     "metadata": {},
     "output_type": "execute_result"
    }
   ],
   "source": [
    "# print coefficient\n",
    "coefficient"
   ]
  },
  {
   "cell_type": "code",
   "execution_count": 85,
   "metadata": {},
   "outputs": [
    {
     "data": {
      "text/plain": [
       "24988766.619506977"
      ]
     },
     "execution_count": 85,
     "metadata": {},
     "output_type": "execute_result"
    }
   ],
   "source": [
    "# print intercept\n",
    "intercept"
   ]
  },
  {
   "cell_type": "code",
   "execution_count": 86,
   "metadata": {},
   "outputs": [
    {
     "data": {
      "text/plain": [
       "0.6093400206233192"
      ]
     },
     "execution_count": 86,
     "metadata": {},
     "output_type": "execute_result"
    }
   ],
   "source": [
    "# calculate the R-squared\n",
    "model.score(X_test, y_test)"
   ]
  },
  {
   "cell_type": "code",
   "execution_count": 87,
   "metadata": {},
   "outputs": [],
   "source": [
    "y_predicted = model.predict(X_test)"
   ]
  },
  {
   "cell_type": "code",
   "execution_count": 88,
   "metadata": {},
   "outputs": [
    {
     "data": {
      "text/html": [
       "<div>\n",
       "<style scoped>\n",
       "    .dataframe tbody tr th:only-of-type {\n",
       "        vertical-align: middle;\n",
       "    }\n",
       "\n",
       "    .dataframe tbody tr th {\n",
       "        vertical-align: top;\n",
       "    }\n",
       "\n",
       "    .dataframe thead th {\n",
       "        text-align: right;\n",
       "    }\n",
       "</style>\n",
       "<table border=\"1\" class=\"dataframe\">\n",
       "  <thead>\n",
       "    <tr style=\"text-align: right;\">\n",
       "      <th></th>\n",
       "      <th>Features</th>\n",
       "      <th>Coefficients</th>\n",
       "    </tr>\n",
       "  </thead>\n",
       "  <tbody>\n",
       "    <tr>\n",
       "      <th>0</th>\n",
       "      <td>BBL</td>\n",
       "      <td>-5.158665e-01</td>\n",
       "    </tr>\n",
       "    <tr>\n",
       "      <th>1</th>\n",
       "      <td>BUILDING CLASS CATEGORY</td>\n",
       "      <td>-3.103511e+08</td>\n",
       "    </tr>\n",
       "    <tr>\n",
       "      <th>2</th>\n",
       "      <td>TAX CLASS AT PRESENT</td>\n",
       "      <td>-3.417954e-04</td>\n",
       "    </tr>\n",
       "    <tr>\n",
       "      <th>3</th>\n",
       "      <td>BUILDING CLASS AT PRESENT</td>\n",
       "      <td>2.701199e-07</td>\n",
       "    </tr>\n",
       "    <tr>\n",
       "      <th>4</th>\n",
       "      <td>TAX CLASS AT TIME OF SALE</td>\n",
       "      <td>9.978782e+08</td>\n",
       "    </tr>\n",
       "    <tr>\n",
       "      <th>5</th>\n",
       "      <td>BUILDING CLASS AT TIME OF SALE</td>\n",
       "      <td>-4.973921e+07</td>\n",
       "    </tr>\n",
       "    <tr>\n",
       "      <th>6</th>\n",
       "      <td>GROSS SQUARE FEET</td>\n",
       "      <td>4.532723e+05</td>\n",
       "    </tr>\n",
       "    <tr>\n",
       "      <th>7</th>\n",
       "      <td>LAND SQUARE FEET</td>\n",
       "      <td>-3.717565e+05</td>\n",
       "    </tr>\n",
       "    <tr>\n",
       "      <th>8</th>\n",
       "      <td>COMMERCIAL UNITS</td>\n",
       "      <td>-2.391094e+08</td>\n",
       "    </tr>\n",
       "    <tr>\n",
       "      <th>9</th>\n",
       "      <td>YEAR BUILT</td>\n",
       "      <td>-1.171260e+07</td>\n",
       "    </tr>\n",
       "    <tr>\n",
       "      <th>10</th>\n",
       "      <td>NEIGHBORHOOD</td>\n",
       "      <td>2.310503e+05</td>\n",
       "    </tr>\n",
       "    <tr>\n",
       "      <th>11</th>\n",
       "      <td>ADDRESS</td>\n",
       "      <td>8.206200e+05</td>\n",
       "    </tr>\n",
       "    <tr>\n",
       "      <th>12</th>\n",
       "      <td>TOTAL UNITS</td>\n",
       "      <td>-7.050907e+07</td>\n",
       "    </tr>\n",
       "  </tbody>\n",
       "</table>\n",
       "</div>"
      ],
      "text/plain": [
       "                          Features  Coefficients\n",
       "0                              BBL -5.158665e-01\n",
       "1          BUILDING CLASS CATEGORY -3.103511e+08\n",
       "2             TAX CLASS AT PRESENT -3.417954e-04\n",
       "3        BUILDING CLASS AT PRESENT  2.701199e-07\n",
       "4        TAX CLASS AT TIME OF SALE  9.978782e+08\n",
       "5   BUILDING CLASS AT TIME OF SALE -4.973921e+07\n",
       "6                GROSS SQUARE FEET  4.532723e+05\n",
       "7                 LAND SQUARE FEET -3.717565e+05\n",
       "8                 COMMERCIAL UNITS -2.391094e+08\n",
       "9                       YEAR BUILT -1.171260e+07\n",
       "10                    NEIGHBORHOOD  2.310503e+05\n",
       "11                         ADDRESS  8.206200e+05\n",
       "12                     TOTAL UNITS -7.050907e+07"
      ]
     },
     "execution_count": 88,
     "metadata": {},
     "output_type": "execute_result"
    }
   ],
   "source": [
    "# put coefficients into dataframe\n",
    "# pair the feature names with the coefficients\n",
    "coefficients_pd = pd.DataFrame((list(zip(features, model.coef_ * 1000))), columns = ['Features', 'Coefficients'])\n",
    "\n",
    "# print table of coefficients for contribution chart\n",
    "coefficients_pd\n"
   ]
  },
  {
   "cell_type": "code",
   "execution_count": 89,
   "metadata": {},
   "outputs": [
    {
     "data": {
      "text/plain": [
       "<matplotlib.axes._subplots.AxesSubplot at 0x1a20709ac8>"
      ]
     },
     "execution_count": 89,
     "metadata": {},
     "output_type": "execute_result"
    },
    {
     "data": {
      "image/png": "[encoded data removed]",
      "text/plain": [
       "<Figure size 1440x720 with 1 Axes>"
      ]
     },
     "metadata": {},
     "output_type": "display_data"
    }
   ],
   "source": [
    "# Plot Contribution chart\n",
    "coefficients_pd.sort_values('Coefficients').set_index('Features').plot(kind = 'barh', color = 'g')"
   ]
  },
  {
   "cell_type": "code",
   "execution_count": 90,
   "metadata": {},
   "outputs": [
    {
     "data": {
      "text/plain": [
       "17548318.386437707"
      ]
     },
     "execution_count": 90,
     "metadata": {},
     "output_type": "execute_result"
    }
   ],
   "source": [
    "np.sqrt(mse(y_predicted, y_test)) # Root mean squared error"
   ]
  },
  {
   "cell_type": "code",
   "execution_count": 91,
   "metadata": {},
   "outputs": [],
   "source": [
    "from sklearn.ensemble import RandomForestRegressor as rfr\n",
    "est = rfr(n_estimators=100, random_state=0).fit(X_train, y_train)\n",
    "a = est.predict(X_test)"
   ]
  },
  {
   "cell_type": "code",
   "execution_count": 92,
   "metadata": {},
   "outputs": [
    {
     "data": {
      "text/plain": [
       "22599140.39399988"
      ]
     },
     "execution_count": 92,
     "metadata": {},
     "output_type": "execute_result"
    }
   ],
   "source": [
    "np.sqrt(mse(y_test, a))"
   ]
  },
  {
   "cell_type": "code",
   "execution_count": null,
   "metadata": {},
   "outputs": [],
   "source": []
  }
 ],
 "metadata": {
  "kernelspec": {
   "display_name": "Python 3",
   "language": "python",
   "name": "python3"
  },
  "language_info": {
   "codemirror_mode": {
    "name": "ipython",
    "version": 3
   },
   "file_extension": ".py",
   "mimetype": "text/x-python",
   "name": "python",
   "nbconvert_exporter": "python",
   "pygments_lexer": "ipython3",
   "version": "3.7.3"
  }
 },
 "nbformat": 4,
 "nbformat_minor": 2
}
